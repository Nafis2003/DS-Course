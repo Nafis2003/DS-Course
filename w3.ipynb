{
 "cells": [
  {
   "cell_type": "raw",
   "id": "b9705e5b-d4b4-4a3c-8304-e25bb6ccbc10",
   "metadata": {},
   "source": [
    "Task 1 \n",
    "Introduction to NumPy and Array Creation "
   ]
  },
  {
   "cell_type": "code",
   "execution_count": 1,
   "id": "57d860e8-1bbd-40b8-a5de-e176aaa48ab6",
   "metadata": {},
   "outputs": [],
   "source": [
    "import numpy as np"
   ]
  },
  {
   "cell_type": "code",
   "execution_count": 2,
   "id": "50867f86-4f50-4fc5-944e-01b5da58b581",
   "metadata": {},
   "outputs": [
    {
     "data": {
      "text/plain": [
       "array([10, 20, 30, 40, 50])"
      ]
     },
     "execution_count": 2,
     "metadata": {},
     "output_type": "execute_result"
    }
   ],
   "source": [
    "#Creating 1D array\n",
    "arr=np.array([10,20,30,40,50])\n",
    "arr"
   ]
  },
  {
   "cell_type": "code",
   "execution_count": 3,
   "id": "7a8b4e49-6ec0-4c3f-9f1d-a82551c99db6",
   "metadata": {
    "scrolled": true
   },
   "outputs": [
    {
     "data": {
      "text/plain": [
       "array([[0., 0., 0.],\n",
       "       [0., 0., 0.]])"
      ]
     },
     "execution_count": 3,
     "metadata": {},
     "output_type": "execute_result"
    }
   ],
   "source": [
    "#(2,3) shape 2D array with zeros\n",
    "arrz=np.zeros((2,3))\n",
    "arrz"
   ]
  },
  {
   "cell_type": "code",
   "execution_count": 4,
   "id": "2cf6189c-c9f7-46ac-8335-a20618060ca4",
   "metadata": {
    "jupyter": {
     "source_hidden": true
    }
   },
   "outputs": [
    {
     "data": {
      "text/plain": [
       "array([  0.,  25.,  50.,  75., 100.])"
      ]
     },
     "execution_count": 4,
     "metadata": {},
     "output_type": "execute_result"
    }
   ],
   "source": [
    "#Using numpy.linspace to create an array of 5 evenly spaced numbers between 0 and 100\n",
    "arr2=np.linspace(0,100,5)\n",
    "arr2"
   ]
  },
  {
   "cell_type": "raw",
   "id": "5aa4dc94-aef3-412a-8d09-61a7ac4b7c16",
   "metadata": {},
   "source": [
    "Task 2\n",
    "Array Indexing and Slicing"
   ]
  },
  {
   "cell_type": "code",
   "execution_count": 5,
   "id": "407f0634-dc3e-41b2-8af0-a351a2d36175",
   "metadata": {},
   "outputs": [],
   "source": [
    "#Creating 1D array\n",
    "arr=np.array([5,10,15,20,25,30])"
   ]
  },
  {
   "cell_type": "code",
   "execution_count": 6,
   "id": "32380fda-18c8-4cad-ad40-0d0b05db2458",
   "metadata": {},
   "outputs": [
    {
     "data": {
      "text/plain": [
       "array([ 5, 10, 15])"
      ]
     },
     "execution_count": 6,
     "metadata": {},
     "output_type": "execute_result"
    }
   ],
   "source": [
    "#Extracting 1st theree elemets\n",
    "arr[:3]"
   ]
  },
  {
   "cell_type": "code",
   "execution_count": 7,
   "id": "5f92383f-7ffe-451f-a067-3a6dd262ade2",
   "metadata": {},
   "outputs": [
    {
     "data": {
      "text/plain": [
       "array([ 5, 15, 25])"
      ]
     },
     "execution_count": 7,
     "metadata": {},
     "output_type": "execute_result"
    }
   ],
   "source": [
    "#Extracting every 2nd element\n",
    "arr[::2]"
   ]
  },
  {
   "cell_type": "code",
   "execution_count": 8,
   "id": "396ac029-dfcb-421b-951e-ddef63008976",
   "metadata": {},
   "outputs": [
    {
     "data": {
      "text/plain": [
       "array([ 5, 10, 15, 50, 25, 30])"
      ]
     },
     "execution_count": 8,
     "metadata": {},
     "output_type": "execute_result"
    }
   ],
   "source": [
    "arr[3]=50\n",
    "arr"
   ]
  },
  {
   "cell_type": "raw",
   "id": "4384a0f2-070d-4b4d-9005-f8a719dd5f7a",
   "metadata": {},
   "source": [
    "Task 3\n",
    "Reshaping Arrays"
   ]
  },
  {
   "cell_type": "code",
   "execution_count": 9,
   "id": "68e2266a-3b65-49a9-a187-bd63b2068db4",
   "metadata": {},
   "outputs": [
    {
     "data": {
      "text/plain": [
       "array([ 1,  2,  3,  4,  5,  6,  7,  8,  9, 10, 11, 12])"
      ]
     },
     "execution_count": 9,
     "metadata": {},
     "output_type": "execute_result"
    }
   ],
   "source": [
    "#Creating a 1D array with 12 elements ranging from 1 to 12 using numpy.arange\n",
    "arr=np.arange(1,13)\n",
    "arr"
   ]
  },
  {
   "cell_type": "code",
   "execution_count": 10,
   "id": "6749aedd-d36d-4b6e-a91d-7ad66ca00d2b",
   "metadata": {},
   "outputs": [
    {
     "data": {
      "text/plain": [
       "array([[ 1,  2,  3,  4],\n",
       "       [ 5,  6,  7,  8],\n",
       "       [ 9, 10, 11, 12]])"
      ]
     },
     "execution_count": 10,
     "metadata": {},
     "output_type": "execute_result"
    }
   ],
   "source": [
    "#Reshaping to (3,4)\n",
    "arr.shape=(3,4)\n",
    "arr"
   ]
  },
  {
   "cell_type": "raw",
   "id": "f374f573-4c65-4bd8-9b41-d3e82542ea9f",
   "metadata": {},
   "source": [
    "Task 4\n",
    "Broadcasting and Element-wise Operations"
   ]
  },
  {
   "cell_type": "code",
   "execution_count": 11,
   "id": "ffc3c005-34b0-4df3-b221-33b0ca9a22a6",
   "metadata": {},
   "outputs": [
    {
     "data": {
      "text/plain": [
       "array([1, 2, 3, 4, 5])"
      ]
     },
     "execution_count": 11,
     "metadata": {},
     "output_type": "execute_result"
    }
   ],
   "source": [
    "#Creating 1D array\n",
    "arr=np.array([1,2,3,4,5])\n",
    "arr"
   ]
  },
  {
   "cell_type": "code",
   "execution_count": 12,
   "id": "73941caa-68c1-4941-b70b-bfcf11ff18c5",
   "metadata": {},
   "outputs": [
    {
     "data": {
      "text/plain": [
       "array([11, 12, 13, 14, 15])"
      ]
     },
     "execution_count": 12,
     "metadata": {},
     "output_type": "execute_result"
    }
   ],
   "source": [
    "#Adding 10 to each element\n",
    "arr+=10\n",
    "arr"
   ]
  },
  {
   "cell_type": "code",
   "execution_count": 13,
   "id": "0c65ff4f-8d45-4dbb-bf53-9d26cbbe1f52",
   "metadata": {},
   "outputs": [
    {
     "data": {
      "text/plain": [
       "array([33, 36, 39, 42, 45])"
      ]
     },
     "execution_count": 13,
     "metadata": {},
     "output_type": "execute_result"
    }
   ],
   "source": [
    "#Multiplying by 3\n",
    "arr*=3\n",
    "arr"
   ]
  },
  {
   "cell_type": "code",
   "execution_count": 14,
   "id": "546f8e15-bce6-4365-b817-5bc034e6326e",
   "metadata": {},
   "outputs": [
    {
     "data": {
      "text/plain": [
       "array([1089, 1296, 1521, 1764, 2025])"
      ]
     },
     "execution_count": 14,
     "metadata": {},
     "output_type": "execute_result"
    }
   ],
   "source": [
    "#Square of eache element\n",
    "arr**=2\n",
    "arr"
   ]
  },
  {
   "cell_type": "raw",
   "id": "70c4ee6b-aeaa-4258-8d37-f7809b8ca4be",
   "metadata": {},
   "source": [
    "Task 5\n",
    "Basic Statistics with Arrays"
   ]
  },
  {
   "cell_type": "code",
   "execution_count": 15,
   "id": "35c31359-be29-4e67-9e46-139221578f89",
   "metadata": {},
   "outputs": [
    {
     "data": {
      "text/plain": [
       "array([30, 32, 31, 29, 28, 33, 34])"
      ]
     },
     "execution_count": 15,
     "metadata": {},
     "output_type": "execute_result"
    }
   ],
   "source": [
    "#Creating the 1D array\n",
    "temp=np.array([30, 32, 31, 29, 28, 33, 34])\n",
    "temp"
   ]
  },
  {
   "cell_type": "code",
   "execution_count": 16,
   "id": "3493ed31-d990-4821-a38f-b0ceb4c81802",
   "metadata": {},
   "outputs": [
    {
     "data": {
      "text/plain": [
       "np.float64(31.0)"
      ]
     },
     "execution_count": 16,
     "metadata": {},
     "output_type": "execute_result"
    }
   ],
   "source": [
    "#Mean temperature\n",
    "meanTemp=np.mean(temp)\n",
    "meanTemp"
   ]
  },
  {
   "cell_type": "code",
   "execution_count": 17,
   "id": "0c7cfde8-bf76-4531-8936-cd711fde5528",
   "metadata": {},
   "outputs": [
    {
     "data": {
      "text/plain": [
       "np.int64(28)"
      ]
     },
     "execution_count": 17,
     "metadata": {},
     "output_type": "execute_result"
    }
   ],
   "source": [
    "#Minimum Temperature\n",
    "minTemp=np.min(temp)\n",
    "minTemp"
   ]
  },
  {
   "cell_type": "code",
   "execution_count": 18,
   "id": "da01e2ed-8e34-4c49-9a4c-ff672a9df3df",
   "metadata": {},
   "outputs": [
    {
     "data": {
      "text/plain": [
       "np.int64(34)"
      ]
     },
     "execution_count": 18,
     "metadata": {},
     "output_type": "execute_result"
    }
   ],
   "source": [
    "#Maximum Temperature\n",
    "maxTemp=np.max(temp)\n",
    "maxTemp"
   ]
  },
  {
   "cell_type": "code",
   "execution_count": 19,
   "id": "27912730-0bc1-4b1c-a810-c42963a87d9b",
   "metadata": {},
   "outputs": [
    {
     "data": {
      "text/plain": [
       "np.int64(217)"
      ]
     },
     "execution_count": 19,
     "metadata": {},
     "output_type": "execute_result"
    }
   ],
   "source": [
    "total=np.sum(temp)\n",
    "total"
   ]
  },
  {
   "cell_type": "raw",
   "id": "03ebcbf7-ae9b-49ae-ad4e-40da5bf5ee39",
   "metadata": {},
   "source": [
    "Task 6\n",
    "Real-World Problem: Sales Analysis"
   ]
  },
  {
   "cell_type": "code",
   "execution_count": 20,
   "id": "4bb27257-927a-4323-b24e-b850fdaea30d",
   "metadata": {},
   "outputs": [
    {
     "data": {
      "text/plain": [
       "array([[200, 220, 250, 270, 300],\n",
       "       [150, 160, 170, 180, 200]])"
      ]
     },
     "execution_count": 20,
     "metadata": {},
     "output_type": "execute_result"
    }
   ],
   "source": [
    "#sales of the products over 5 days\n",
    "sales=np.array([[200, 220, 250, 270, 300],[150, 160, 170, 180, 200]])\n",
    "sales"
   ]
  },
  {
   "cell_type": "code",
   "execution_count": 21,
   "id": "9659aa39-54d5-476d-949e-be13157bf2bc",
   "metadata": {},
   "outputs": [
    {
     "data": {
      "text/plain": [
       "array([1240,  860])"
      ]
     },
     "execution_count": 21,
     "metadata": {},
     "output_type": "execute_result"
    }
   ],
   "source": [
    "#Total Sales\n",
    "totalSales=np.sum(sales,axis=1)\n",
    "totalSales"
   ]
  },
  {
   "cell_type": "code",
   "execution_count": 22,
   "id": "fee980af-5d30-4241-8f2e-10ccbd5957c6",
   "metadata": {},
   "outputs": [
    {
     "data": {
      "text/plain": [
       "array([248., 172.])"
      ]
     },
     "execution_count": 22,
     "metadata": {},
     "output_type": "execute_result"
    }
   ],
   "source": [
    "#Average sales\n",
    "avgSales=np.mean(sales,axis=1)\n",
    "avgSales"
   ]
  },
  {
   "cell_type": "code",
   "execution_count": 23,
   "id": "86e0c1a0-25da-45b3-9132-41295115d41d",
   "metadata": {},
   "outputs": [
    {
     "data": {
      "text/plain": [
       "array([4, 4])"
      ]
     },
     "execution_count": 23,
     "metadata": {},
     "output_type": "execute_result"
    }
   ],
   "source": [
    "#Highest sales for each product\n",
    "maxSales=np.argmax(sales,axis=1)\n",
    "maxSales"
   ]
  }
 ],
 "metadata": {
  "kernelspec": {
   "display_name": "Python 3 (ipykernel)",
   "language": "python",
   "name": "python3"
  },
  "language_info": {
   "codemirror_mode": {
    "name": "ipython",
    "version": 3
   },
   "file_extension": ".py",
   "mimetype": "text/x-python",
   "name": "python",
   "nbconvert_exporter": "python",
   "pygments_lexer": "ipython3",
   "version": "3.13.1"
  }
 },
 "nbformat": 4,
 "nbformat_minor": 5
}
